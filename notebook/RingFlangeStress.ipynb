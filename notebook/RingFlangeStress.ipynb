{
 "cells": [
  {
   "cell_type": "code",
   "execution_count": 1,
   "id": "3e1530ff",
   "metadata": {},
   "outputs": [],
   "source": [
    "import numpy as np"
   ]
  },
  {
   "cell_type": "markdown",
   "id": "78062583",
   "metadata": {},
   "source": [
    "## Ring Flange Stress\n",
    "\n",
    "\n",
    "We have Flat Face Flanges with Metal-to-Metal Contact Outside the Bolt Circle, and therefore should use non-Mandatory Appendix Y, Class 3 Flange Assembly, Figure Y-5.1.3.  (For a large central hole in a flat plate where the hole is greater than 1/2 the flange diameter, the rules of Mandatory Appendix 14 should be used.)\n",
    "\n",
    "SLArpaas material: stainless steel 304"
   ]
  },
  {
   "cell_type": "markdown",
   "id": "a57d441a",
   "metadata": {},
   "source": [
    "### Flange parameters\n",
    "\n",
    "\n",
    "$A$ = outside diameter of flange or, where slotted holes extend to the outside of the flange, the diameter to the bottom of the slots = 18 in\n",
    "\n",
    "$B$ = inside diameter of flange = 14 in\n",
    "\n",
    "$C$ = bolt‐circle diameter = 17 in\n",
    "\n",
    "$G$ = 15.086 in (option b, when $b_o$ > 1/4 in. (6 mm), G = outside diameter of gasket contact face less 2b), from the Cryofab analysis\n",
    "\n",
    "$t$ = flange thickness = 0.63 in (based on the Cryofab analysis and drawing)  Note that it is the thickness of the flange of the dewar, not of the top plate.\n",
    "\n",
    "$n$ = number of bolts = 8\n",
    "\n",
    "$P$ = 15 psig (internal design pressure)\n",
    "\n",
    "$B_s$ = real bolt spacing = $C/n$ or the real chord length of the bolt spacing: $B_s = \\frac{C}{2}\\frac{\\sin(2\\pi/n)}{\\sin((\\pi-(2\\pi/n))/2)}$"
   ]
  },
  {
   "cell_type": "code",
   "execution_count": 2,
   "id": "72edc0a3",
   "metadata": {},
   "outputs": [],
   "source": [
    "A = 18\n",
    "B = 14\n",
    "C = 17\n",
    "G = 15.086\n",
    "t = 0.63\n",
    "n = 8\n",
    "P = 15"
   ]
  },
  {
   "cell_type": "markdown",
   "id": "60c685b2",
   "metadata": {},
   "source": [
    "### Bolt load\n",
    "\n",
    "Table 2.5-1: \n",
    "\n",
    "> Self‐energizing types (O-rings, metallic, elastomer, other gasket 0 types considered as self‐sealing)\n",
    "\n",
    "Mandatory Appendix 2-5 (c)(3)\n",
    "\n",
    "> Bolt loads for flanges using gaskets of the self‐ energizing type differ from those shown above.\n",
    "\n",
    "2-5 (c)(3)(-a) \n",
    "\n",
    "$W_{m1}$ = minimum required bolt load for the operating conditions\n",
    "\n",
    "$W_{m1} = H+H_p$ (eq. 2.5 (c)(1)(1)), where $H_p = 0$ \n",
    "\n",
    "$H$ = total hydrostatic end force\n",
    "\n",
    "$H = 0.785 G^2P$ \n",
    "\n",
    "2-5 (c)(3)(-b)\n",
    "\n",
    "$W_{m2}$ = minimum required bolt load for gasket seating\n",
    "\n",
    "$W_{m2}$ = 0"
   ]
  },
  {
   "cell_type": "code",
   "execution_count": 3,
   "id": "b7c526d7",
   "metadata": {},
   "outputs": [
    {
     "name": "stdout",
     "output_type": "stream",
     "text": [
      "ASME: Minimal required bolt load for the operating conditions: 2679.8415879000004 pound\n"
     ]
    }
   ],
   "source": [
    "H = 0.785*(G**2)*P\n",
    "Wm1 = H\n",
    "print( f'ASME: Minimal required bolt load for the operating conditions: {Wm1} pound')"
   ]
  },
  {
   "cell_type": "markdown",
   "id": "d9d139d3",
   "metadata": {},
   "source": [
    "SLArpaas vessel < 60 pounds\n",
    "\n",
    "Gross capacity of the SLArpaas vessel = 60 L\n",
    "\n",
    "LAr density = 1.4 kg/L\n",
    "\n",
    "LAr mass when SLArpaas is full = 1.4 kg/L * 60L"
   ]
  },
  {
   "cell_type": "code",
   "execution_count": 4,
   "id": "a5a0c053",
   "metadata": {},
   "outputs": [
    {
     "name": "stdout",
     "output_type": "stream",
     "text": [
      "Minimal required bolt load for the operating conditions with the vessel and LAr weight: 2924.6415879000006 pound\n"
     ]
    }
   ],
   "source": [
    "M_SLArpaas_lbs = 60\n",
    "D_LAr_SI = 1.4\n",
    "Vol_SLArpaas_L = 60\n",
    "M_LAr_SI = D_LAr_SI*Vol_SLArpaas_L\n",
    "M_LAr_lbs = 2.2*M_LAr_SI\n",
    "Wm1 += M_SLArpaas_lbs + M_LAr_lbs\n",
    "print( f'Minimal required bolt load for the operating conditions with the vessel and LAr weight: {Wm1} pound')"
   ]
  },
  {
   "cell_type": "markdown",
   "id": "3636e3b8",
   "metadata": {},
   "source": [
    "### Bolt Spacing\n",
    "\n",
    "2-5 (d)\n",
    "\n",
    "$B_{s,max}$ = Maximum bolt spacing\n",
    "\n",
    "2-5 (d)(3)\n",
    "\n",
    "$B_{s,max} = 2a + \\frac{6t}{m+0.5}$\n",
    "\n",
    "$a$ = nominal bolt diameter, 0.313 in for 5/16\"-18 bolts\n",
    "\n",
    "$m$ = gasket factor, obtain from Table 2-5.1 [see Note in 2-5(c)(1)]\n",
    "\n",
    "Table 2-5.1: $m$ = 0 for O-ring\n",
    "\n",
    "Calculate the chord length of the bolt spacing: $B_s = \\frac{C}{2}\\frac{\\sin(2\\pi/n)}{\\sin((\\pi-(2\\pi/n))/2)}$"
   ]
  },
  {
   "cell_type": "code",
   "execution_count": 5,
   "id": "33d11821",
   "metadata": {},
   "outputs": [
    {
     "name": "stdout",
     "output_type": "stream",
     "text": [
      "Maximum bolt spacing should be 8.186 in, bolt spacing is 6.505618350206526 in, satisfied: True\n"
     ]
    }
   ],
   "source": [
    "a = 0.313\n",
    "Bsmax = 2*a+ 6*t/0.5\n",
    "Bs = C*np.sin(np.pi/4)/(2*np.sin(3*np.pi/8))\n",
    "BsSatisfied = False\n",
    "if Bsmax > Bs:\n",
    "    BsSatisfied = True\n",
    "print( f'Maximum bolt spacing should be {Bsmax} in, bolt spacing is {Bs} in, satisfied: {BsSatisfied}')"
   ]
  },
  {
   "cell_type": "markdown",
   "id": "ac50e18b",
   "metadata": {},
   "source": [
    "### Bolt Area\n",
    "\n",
    "$S_T$ = specified minimum tensile strength at room temperature.  The bolts on McMaster are mostly made of SAE J429.  The Grade 2 (low or medium carbon steel) with 1/4\" - 3/4\" size has the minimum tensile strength 74000 psi.  The Cryofab analysis says 70000 psi and I think this is what they meant.\n",
    "\n",
    "$S_b$ = allowable bolt stress at design temperature (see UG-23).  The Cryofab analysis show $S_b = S_T/4$ and I found the allowable stress value = $S_T/4$ in Table 6-100(a), 6-100(b), 6-100(c) in Section II Part D\n",
    "\n",
    "$A_{m1}$ = total cross‐sectional area of bolts at root of thread or section of least diameter under stress,\n",
    "required for the operating conditions\n",
    "= $W_{m1}/S_b$"
   ]
  },
  {
   "cell_type": "code",
   "execution_count": 6,
   "id": "44c7f725",
   "metadata": {},
   "outputs": [
    {
     "name": "stdout",
     "output_type": "stream",
     "text": [
      "Minimum required bolt area: 0.1671223764514286 sq in\n"
     ]
    }
   ],
   "source": [
    "S_T = 70000\n",
    "S_b = S_T/4.\n",
    "Am1 = Wm1/S_b\n",
    "print( f'Minimum required bolt area: {Am1} sq in')"
   ]
  },
  {
   "cell_type": "markdown",
   "id": "c1ab66a2",
   "metadata": {},
   "source": [
    "$A_b$ = area of a bolt = 0.045 sq in\n",
    "\n",
    "Ab_slarpaas = total bolt area in SLArpaas"
   ]
  },
  {
   "cell_type": "code",
   "execution_count": 7,
   "id": "626c7a42",
   "metadata": {},
   "outputs": [
    {
     "name": "stdout",
     "output_type": "stream",
     "text": [
      "Total bolt area in SLArpaas: 0.36 sq in; bolt area OK? True\n"
     ]
    }
   ],
   "source": [
    "Ab = 0.045\n",
    "Ab_slarpaas = n*Ab\n",
    "\n",
    "BoltAreaOK = False\n",
    "if Ab_slarpaas > Am1:\n",
    "    BoltAreaOK = True\n",
    "\n",
    "print( f'Total bolt area in SLArpaas: {Ab_slarpaas} sq in; bolt area OK? {BoltAreaOK}')"
   ]
  },
  {
   "cell_type": "markdown",
   "id": "b70e8fd4",
   "metadata": {},
   "source": [
    "### Flange Design Bolt Load\n",
    "\n",
    "Mandatory Appendix 2-5(e)\n",
    "\n",
    "$W$ = Flange design bolt load\n",
    "\n",
    "$W = W_{m1}$ for operation conditions\n",
    "\n",
    "$W = \\frac{(A_m+A_b)S_a}{2}$ for gasket seating\n",
    "\n",
    "where $S_a$ = allowable bolt stress at atmospheric temperature (see UG-23).  \n",
    "Also see the explanation in 2-5(e).\n",
    "\n",
    "In our case, $S_a = S_b$, $A_m = A_{m1}$ "
   ]
  },
  {
   "cell_type": "code",
   "execution_count": 8,
   "id": "43da4b93",
   "metadata": {
    "scrolled": true
   },
   "outputs": [
    {
     "name": "stdout",
     "output_type": "stream",
     "text": [
      "Flange design bolt load: 4612.32079395 pound\n"
     ]
    }
   ],
   "source": [
    "S_a = S_b\n",
    "Am = Am1\n",
    "W = (Am+Ab_slarpaas)*S_a/2\n",
    "print( f'Flange design bolt load: {W} pound')"
   ]
  },
  {
   "cell_type": "markdown",
   "id": "a69b5127",
   "metadata": {},
   "source": [
    "### Flange Moment\n",
    "\n",
    "\n",
    "For the operating conditions, the total flange moment is described in Appendix 2-6,\n",
    "\n",
    "$M_{op} = M_D+M_T+M_G$\n",
    "\n",
    "where $M_{op}$ has the same notation in the Cryofab analysis ($M_o$ in ASME), $M_D = H_Dh_D$, $M_T = H_Th_T$ and $M_G = H_Gh_G$.\n",
    "\n",
    "$H_D$ = hydrostatic end force on area inside of flange = $0.785B^2P$\n",
    "\n",
    "$h_D$ = radial distance from the bolt circle, to the circle on which $H_D$ acts, as prescribed in Table 2-6 \n",
    "= $(C-B)/2$\n",
    "\n",
    "$H_T$ = difference between total hydrostatic end force and the hydrostatic end force on area inside of flange\n",
    "= $H − H_D$\n",
    "\n",
    "$h_T$ = radial distance from the bolt circle to the circle on which $H_T$ acts as prescribed in Table 2-6 \n",
    "= $C/2 - (B/2+G/2)/2$\n",
    "\n",
    "$H_G$ = gasket load for the operating condition\n",
    "= $W_{m1} − H$\n",
    "\n",
    "$h_G$ = radial distance from gasket load reaction to the bolt circle\n",
    "= $(C−G)/2$"
   ]
  },
  {
   "cell_type": "code",
   "execution_count": 9,
   "id": "d7d03a18",
   "metadata": {},
   "outputs": [
    {
     "name": "stdout",
     "output_type": "stream",
     "text": [
      "For the operating conditions, the total flange moment Mop = 4285.980240735151 poundxin\n"
     ]
    }
   ],
   "source": [
    "HD = 0.785*(B**2)*P\n",
    "hD = (C-B)/2\n",
    "HT = H - HD\n",
    "hT = C/2 - (B/2 + G/2)/2\n",
    "HG = Wm1 - H\n",
    "hG = (C-B)/2\n",
    "Mop = HD*hD + HT*hT + HG*hG\n",
    "print( f'For the operating conditions, the total flange moment Mop = {Mop} poundxin')"
   ]
  },
  {
   "cell_type": "markdown",
   "id": "8ad21b65",
   "metadata": {},
   "source": [
    "For gasket seating, the total flange moment is (Eq. 2-6(6))\n",
    "\n",
    "$M_a = W\\frac{C-G}{2}$\n",
    "\n",
    "where $M_a$ has the same notation in the Cryofab analysis ($M_o$ in ASME)"
   ]
  },
  {
   "cell_type": "code",
   "execution_count": 10,
   "id": "83aafaa2",
   "metadata": {},
   "outputs": [
    {
     "name": "stdout",
     "output_type": "stream",
     "text": [
      "For gasket seating, the total flange moment Ma = 4413.990999810149 poundxin\n"
     ]
    }
   ],
   "source": [
    "Ma = W*(C-G)/2\n",
    "print( f'For gasket seating, the total flange moment Ma = {Ma} poundxin')"
   ]
  },
  {
   "cell_type": "markdown",
   "id": "83f09987",
   "metadata": {},
   "source": [
    "Appendix 2-6:\n",
    "\n",
    "> When the bolt spacing exceeds $2a + t$, multiply $M_O$ by the bolt spacing correction factor $B_{SC}$ for calculating flange stress, where\n",
    ">\n",
    "> $B_{SC} = \\sqrt{\\frac{B_S}{2a+t}}$"
   ]
  },
  {
   "cell_type": "code",
   "execution_count": 11,
   "id": "975d3035",
   "metadata": {},
   "outputs": [
    {
     "name": "stdout",
     "output_type": "stream",
     "text": [
      "The bolt spacing correction factor, Bsc = 2.275880586593231\n"
     ]
    }
   ],
   "source": [
    "Bsc = np.sqrt(Bs/(2*a+t))\n",
    "print( f'The bolt spacing correction factor, Bsc = {Bsc}')"
   ]
  },
  {
   "cell_type": "markdown",
   "id": "e29f437e",
   "metadata": {},
   "source": [
    "### Tangential Stress in Flange\n",
    "\n",
    "Appendix 2-7(b)(11):\n",
    "\n",
    "$S_T = \\frac{YM_o}{t^2B}$\n",
    "\n",
    "In our case, we need to apply the bolt spacing correction factor, and $M_o = M_{op}$ (the operating conditions), therefore,\n",
    "\n",
    "$S_T = \\frac{YM_{op}B_{SC}}{t^2B}$\n",
    "\n",
    "According to 2-3 and Figure 2-7.1,\n",
    "\n",
    "$Y = \\frac{1}{K-1}[0.66845+5.7169\\frac{K^2\\log_{10}K}{K^2-1}]$\n",
    "\n",
    "where $K$ = ratio of outside diameter of flange to inside diameter of flange\n",
    "= $A/B$"
   ]
  },
  {
   "cell_type": "code",
   "execution_count": 12,
   "id": "3de9402e",
   "metadata": {},
   "outputs": [
    {
     "name": "stdout",
     "output_type": "stream",
     "text": [
      "Tangential stress is 13811.140777819619 psi\n"
     ]
    }
   ],
   "source": [
    "K = A/B\n",
    "Y = 1./(K-1)*(0.66845+5.7169*(K**2)*np.log10(K)/((K**2)-1))\n",
    "ST = Y*Mop*Bsc/((t**2)*B)\n",
    "# print( f'K = {K}, Y = {Y}')\n",
    "print( f'Tangential stress is {ST} psi')"
   ]
  },
  {
   "cell_type": "markdown",
   "id": "1599b5bf",
   "metadata": {},
   "source": [
    "S: maximum allowable stress value in tension from applicable table of stress values referenced by UG-23, 20 kpi = 20000 psi, from Table ULT-23, at temperature of 0, 100, 150 F"
   ]
  },
  {
   "cell_type": "code",
   "execution_count": 13,
   "id": "23ef9534",
   "metadata": {},
   "outputs": [
    {
     "name": "stdout",
     "output_type": "stream",
     "text": [
      "Maximum allowable stress = 20000 psi, the tangential stress OK? True\n"
     ]
    }
   ],
   "source": [
    "S = 20000\n",
    "isSTOK = False\n",
    "if ST < S:\n",
    "    isSTOK = True\n",
    "print(f'Maximum allowable stress = {S} psi, the tangential stress OK? {isSTOK}')"
   ]
  },
  {
   "cell_type": "code",
   "execution_count": null,
   "id": "e9b77fb9",
   "metadata": {},
   "outputs": [],
   "source": []
  }
 ],
 "metadata": {
  "kernelspec": {
   "display_name": "Python 3 (ipykernel)",
   "language": "python",
   "name": "python3"
  },
  "language_info": {
   "codemirror_mode": {
    "name": "ipython",
    "version": 3
   },
   "file_extension": ".py",
   "mimetype": "text/x-python",
   "name": "python",
   "nbconvert_exporter": "python",
   "pygments_lexer": "ipython3",
   "version": "3.11.5"
  }
 },
 "nbformat": 4,
 "nbformat_minor": 5
}
