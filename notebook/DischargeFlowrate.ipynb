{
 "cells": [
  {
   "cell_type": "markdown",
   "metadata": {},
   "source": [
    "# Discharge Flowrate"
   ]
  },
  {
   "cell_type": "code",
   "execution_count": 1,
   "metadata": {},
   "outputs": [],
   "source": [
    "import numpy as np"
   ]
  },
  {
   "cell_type": "markdown",
   "metadata": {},
   "source": [
    "## Burst Disc Discharge Capacity\n",
    "\n",
    "The burst disc has the discharge capacity 435 scfm for air.  Calculate the discharge capacity for Ar at room temperature (300K) and 1 atm using ASME Mandatory Appendix 11-1.\n",
    "\n",
    "$C_p$: heat capacity at constant pressure \\\n",
    "$C_V$: heat capacity at constant volume \\\n",
    "(from [wiki](https://en.wikipedia.org/wiki/Heat_capacity_ratio))\n",
    "\n",
    "$C_p$ and $C_V$ are taken from the [NIST database](https://webbook.nist.gov/chemistry/fluid/) at 60 F (289 K) and 1 atm"
   ]
  },
  {
   "cell_type": "code",
   "execution_count": 2,
   "metadata": {},
   "outputs": [
    {
     "data": {
      "text/plain": [
       "1.6695248016668003"
      ]
     },
     "execution_count": 2,
     "metadata": {},
     "output_type": "execute_result"
    }
   ],
   "source": [
    "Cp = 20.834\n",
    "CV = 12.479\n",
    "k = Cp/CV\n",
    "k"
   ]
  },
  {
   "cell_type": "markdown",
   "metadata": {},
   "source": [
    "Calculate C, constant for gas or vapor which is function of the ratio of specific heats, $k = C_p/C_V$, with the formulae in Figure 11-1."
   ]
  },
  {
   "cell_type": "code",
   "execution_count": 3,
   "metadata": {},
   "outputs": [
    {
     "data": {
      "text/plain": [
       "(0.31622059648141143, 377.8286251461336)"
      ]
     },
     "execution_count": 3,
     "metadata": {},
     "output_type": "execute_result"
    }
   ],
   "source": [
    "CompliK = np.power((2/(k+1)), ((k+1)/(k-1)))\n",
    "C = 520*np.sqrt(k*CompliK)\n",
    "CompliK, C"
   ]
  },
  {
   "cell_type": "markdown",
   "metadata": {},
   "source": [
    "Calculate the discharge capacity for Ar with the formula in 11-1,\n",
    "\n",
    "$W = CKAP\\sqrt{M/T}$,\n",
    "\n",
    "where\n",
    "\n",
    "$A$ = actual discharge area of the safety valve, in.$^2$ (mm $^2$)\n",
    "\n",
    "$C$ = constant for gas or vapor which is function of the ratio of specific heats, $k = C_p/C_V$ (see Figure 11-1)\n",
    "\n",
    "K = coefficient of discharge [see UG-131(d) and UG-131(e)]\n",
    "\n",
    "M = molecular weight\n",
    "\n",
    "P = (set pressure x 1.10) plus atmospheric pressure, psia (MPa $_{abs}$)\n",
    "\n",
    "T = absolute temperature at inlet [(°F + 460) (K)]\n",
    "\n",
    "W = flow of any gas or vapor, lb/hr "
   ]
  },
  {
   "cell_type": "code",
   "execution_count": 4,
   "metadata": {},
   "outputs": [
    {
     "data": {
      "text/plain": [
       "1.1471571373140002"
      ]
     },
     "execution_count": 4,
     "metadata": {},
     "output_type": "execute_result"
    }
   ],
   "source": [
    "# W for air, unit in lb/hr\n",
    "# In3toFt3 = 0.0005787, 1 in^3 = 0.0005787 ft^3\n",
    "# Air density (dair) = 0.073841*0.8+0.084387*0.2 (lbm/ft3), where lbm is pound-mass\n",
    "# Discharge capacity for air = 435 scfm\n",
    "In3toFt3 = 0.0005787\n",
    "dair = 0.073841*0.8+0.084387*0.2\n",
    "# use the unit of in^3/hr\n",
    "DC_air = 435*60\n",
    "Wair = DC_air*In3toFt3*dair\n",
    "Wair"
   ]
  },
  {
   "cell_type": "code",
   "execution_count": 5,
   "metadata": {},
   "outputs": [
    {
     "data": {
      "text/plain": [
       "1.4299377502434982"
      ]
     },
     "execution_count": 5,
     "metadata": {},
     "output_type": "execute_result"
    }
   ],
   "source": [
    "# Cair from ASME App. 11-1\n",
    "# Mair = molecular weight of the air from ASME App. 11-1\n",
    "# MAr = molecular weight of Ar from wiki\n",
    "# WAr = Flow of Ar (lb/hr)\n",
    "Cair = 356\n",
    "Mair = 28.97\n",
    "MAr = 39.962\n",
    "WAr = Wair*C*np.sqrt(MAr)/(Cair*np.sqrt(Mair))\n",
    "WAr"
   ]
  },
  {
   "cell_type": "code",
   "execution_count": 6,
   "metadata": {},
   "outputs": [
    {
     "data": {
      "text/plain": [
       "390.910970809926"
      ]
     },
     "execution_count": 6,
     "metadata": {},
     "output_type": "execute_result"
    }
   ],
   "source": [
    "# dAr = Ar density = 0.10535 lbm/ft3\n",
    "dAr = 0.10535\n",
    "# DC_Ar, convert to in^3/min\n",
    "DC_Ar = WAr/dAr/In3toFt3/60\n",
    "DC_Ar"
   ]
  },
  {
   "cell_type": "markdown",
   "metadata": {},
   "source": [
    "The burst disc has the discharge capacity of 391 scfm for Ar."
   ]
  },
  {
   "cell_type": "markdown",
   "metadata": {},
   "source": [
    "## Initial LAr Filling\n",
    "\n",
    "At the beginning of the LAr filling, all the LAr will evaporate when contacting the cryostat at room temperature.  Based on our experience, we consumed a 230-L LAr supply dewar not shorter than 1 hour.  At the beginning we opened the dewar smaller than the time when LAr mostly ended with liquid.  Hence an overestimation of the LAr flowrate is 230/60 liter/minute."
   ]
  },
  {
   "cell_type": "code",
   "execution_count": 7,
   "metadata": {},
   "outputs": [],
   "source": [
    "# LAr flowrate: liter/minute\n",
    "LAr_L_min = 230/60"
   ]
  },
  {
   "cell_type": "markdown",
   "metadata": {},
   "source": [
    "LAr density: 1.396 g/cm^3"
   ]
  },
  {
   "cell_type": "code",
   "execution_count": 8,
   "metadata": {},
   "outputs": [
    {
     "data": {
      "text/plain": [
       "5351.333333333333"
      ]
     },
     "execution_count": 8,
     "metadata": {},
     "output_type": "execute_result"
    }
   ],
   "source": [
    "# The mass of LAr filling in a minute, unit in g\n",
    "d = 1.396\n",
    "LAr_g_min = d*LAr_L_min*1000\n",
    "LAr_g_min"
   ]
  },
  {
   "cell_type": "markdown",
   "metadata": {},
   "source": [
    "How many moles of Ar entering the vessel in a minute? \\\n",
    "1 mole of Ar has the mass of 39.962g"
   ]
  },
  {
   "cell_type": "code",
   "execution_count": 9,
   "metadata": {},
   "outputs": [
    {
     "data": {
      "text/plain": [
       "133.91054835426988"
      ]
     },
     "execution_count": 9,
     "metadata": {},
     "output_type": "execute_result"
    }
   ],
   "source": [
    "# How many moles of Ar\n",
    "M_A = 39.962\n",
    "Ar_nMole_min = LAr_g_min/M_A\n",
    "Ar_nMole_min"
   ]
  },
  {
   "cell_type": "markdown",
   "metadata": {},
   "source": [
    "At 14.7 psia and 300 K, 1 mole of Ar 24.595 has the volume of 24.595 liter"
   ]
  },
  {
   "cell_type": "code",
   "execution_count": 10,
   "metadata": {},
   "outputs": [
    {
     "data": {
      "text/plain": [
       "(3293.5299367732673, 115.27354778706437)"
      ]
     },
     "execution_count": 10,
     "metadata": {},
     "output_type": "execute_result"
    }
   ],
   "source": [
    "# Ar volume in liter\n",
    "V_Mole = 24.595\n",
    "ArFlow_L = Ar_nMole_min*V_Mole\n",
    "# Ar volume in ft^3\n",
    "ArFlow_cft = ArFlow_L*0.035\n",
    "ArFlow_L, ArFlow_cft"
   ]
  },
  {
   "cell_type": "markdown",
   "metadata": {},
   "source": [
    "At the initial LAr filling, all the LAr evaporates, creating Ar gas flow of 3293.5 splm = 115.27 scfm.  It is smaller than the discharge capacity of the burst disc."
   ]
  },
  {
   "cell_type": "markdown",
   "metadata": {},
   "source": [
    "## Failure Mode During Operation\n",
    "\n",
    "1. Thermosyphon fails (no cooling power)\n",
    "2. The vacuum jacket of the dewar fails (air or Ar in the vacuum jacket)"
   ]
  },
  {
   "cell_type": "markdown",
   "metadata": {},
   "source": [
    "### Thermosyphon Failure\n",
    "\n",
    "Thermosyphon evaporator outer radius = 1\" = 2.54cm\n",
    "\n",
    "Thermosyphon evaporator wall thickness, L = (2-1.88)/2\" = 0.06\" = 0.15cm\n",
    "\n",
    "Thermosyphon evaporator inner radius = 1.88/2\" = 0.94\" = 2.39cm\n",
    "\n",
    "$T_L$ = nitrogen temperature in the TS evaporator = 85.051K at 2.3 bar (NIST)\n",
    "\n",
    "$T_H$ = Ar temperature near the TS evaporator = 293K\n",
    "\n",
    "Stainless steel 304 conductivity at 100K, k ~ 9.34W/mK (Thermal Conductivity by T. Ashworth and D. Smith)\n",
    "\n",
    "Ar Latent Heat of Evaporation at boiling point, HB = 163000 J/kg\n",
    "\n",
    "Ar volume at 87.305K and 14.7 psia (boiling point), DenB = 0.17316 m3/kg\n",
    "\n",
    "Ar volume at 293K and 14.7 psia, DenSTP = 0.60127 m3/kg\n",
    "\n",
    "How much liquid nitrogen in the TS?\n",
    "\n",
    "Nitrogen volume at 293K, 1bar = 24.356 L/mol\n",
    "\n",
    "Liquid Nitrogen volume at 85.051K, 2.3bar (inside the TS evaporator) = 0.036387 L/mol\n",
    "\n",
    "The upper bound of the needed nitrogen amount = 70L\n",
    "\n",
    "70L nitrogen in the TS evaporator = 0.105L = 105 cm^3"
   ]
  },
  {
   "cell_type": "code",
   "execution_count": 11,
   "metadata": {},
   "outputs": [
    {
     "data": {
      "text/plain": [
       "0.10457751683363443"
      ]
     },
     "execution_count": 11,
     "metadata": {},
     "output_type": "execute_result"
    }
   ],
   "source": [
    "0.036387*70/24.356"
   ]
  },
  {
   "cell_type": "markdown",
   "metadata": {},
   "source": [
    "TS evaporator inner area = $2.39^2\\pi cm^2$ = 17.95cm2"
   ]
  },
  {
   "cell_type": "code",
   "execution_count": 12,
   "metadata": {},
   "outputs": [
    {
     "data": {
      "text/plain": [
       "17.94509139657026"
      ]
     },
     "execution_count": 12,
     "metadata": {},
     "output_type": "execute_result"
    }
   ],
   "source": [
    "(2.39**2)*np.pi"
   ]
  },
  {
   "cell_type": "markdown",
   "metadata": {},
   "source": [
    "Height of liquid nitrogen in the TS evaporator = 105cm^3/17.95cm^2 = 5.85cm"
   ]
  },
  {
   "cell_type": "code",
   "execution_count": 13,
   "metadata": {},
   "outputs": [
    {
     "data": {
      "text/plain": [
       "5.84958217270195"
      ]
     },
     "execution_count": 13,
     "metadata": {},
     "output_type": "execute_result"
    }
   ],
   "source": [
    "105/17.95"
   ]
  },
  {
   "cell_type": "markdown",
   "metadata": {},
   "source": [
    "Heat transfer\n",
    "\n",
    "$P = k\\frac{A}{L}(T_H-T_L)$"
   ]
  },
  {
   "cell_type": "code",
   "execution_count": 14,
   "metadata": {},
   "outputs": [
    {
     "data": {
      "text/plain": [
       "93.35518225207775"
      ]
     },
     "execution_count": 14,
     "metadata": {},
     "output_type": "execute_result"
    }
   ],
   "source": [
    "A = 2.54*2*np.pi*105/17.95\n",
    "A"
   ]
  },
  {
   "cell_type": "code",
   "execution_count": 15,
   "metadata": {},
   "outputs": [],
   "source": [
    "# conductivity of SS 304 in W/mK\n",
    "k = 9.34\n",
    "# L unit in cm\n",
    "L = 0.15\n",
    "TH = 293\n",
    "TL = 85.051"
   ]
  },
  {
   "cell_type": "code",
   "execution_count": 16,
   "metadata": {},
   "outputs": [
    {
     "data": {
      "text/plain": [
       "1208.7900723816172"
      ]
     },
     "execution_count": 16,
     "metadata": {},
     "output_type": "execute_result"
    }
   ],
   "source": [
    "P = k*A*(TH-TL)*0.001/L\n",
    "P"
   ]
  },
  {
   "cell_type": "markdown",
   "metadata": {},
   "source": [
    "TS will provide 1209W cooling power?!  I think it is also limited to the condenser.  I will use 1kW anyway."
   ]
  },
  {
   "cell_type": "code",
   "execution_count": 17,
   "metadata": {},
   "outputs": [
    {
     "data": {
      "text/plain": [
       "(3.6887730061349693, 221.32638036809817)"
      ]
     },
     "execution_count": 17,
     "metadata": {},
     "output_type": "execute_result"
    }
   ],
   "source": [
    "# W\n",
    "P = 1000\n",
    "# J/kg\n",
    "HB = 163000\n",
    "# m3/kg\n",
    "DenSTP = 0.60127\n",
    "# L/s\n",
    "ArFlow_L_sec = P/HB*DenSTP*1000\n",
    "# L/min\n",
    "ArFlow_L_min = ArFlow_L_sec*60\n",
    "ArFlow_L_sec, ArFlow_L_min"
   ]
  },
  {
   "cell_type": "markdown",
   "metadata": {},
   "source": [
    "Ar flow rate is 221.33 slpm = 7.82 scfm"
   ]
  },
  {
   "cell_type": "markdown",
   "metadata": {},
   "source": [
    "### Vacuum Jacket Failure\n",
    "\n",
    "Dewar bottom area:\n",
    "\n",
    "$A_b = \\int^{\\sin\\theta = 1/2}_{0} 2\\pi r^2 \\sin\\theta d\\theta = 2\\pi r^2(1-\\frac{\\sqrt{3}}{2})$\n",
    "\n",
    "The bottom curvature radius, r = 14\"\n",
    "\n",
    "$r\\sin\\theta = $ 7\"\n",
    "\n",
    "Dewar bottom heat transfer length:\n",
    "\n",
    "$L_b = r-r\\cos\\theta_1$, where $r\\sin\\theta_1$ = 8"
   ]
  },
  {
   "cell_type": "code",
   "execution_count": 18,
   "metadata": {},
   "outputs": [
    {
     "data": {
      "text/plain": [
       "(1064.4513810121991, 6.377621755586812)"
      ]
     },
     "execution_count": 18,
     "metadata": {},
     "output_type": "execute_result"
    }
   ],
   "source": [
    "# cm\n",
    "r = 14*2.54\n",
    "# cm^2\n",
    "Ab = 2*np.pi*r**2*(1-np.sqrt(3)/2)\n",
    "# cm\n",
    "Lb = r - r*np.sqrt(1-16/49)\n",
    "Ab, Lb"
   ]
  },
  {
   "cell_type": "markdown",
   "metadata": {},
   "source": [
    "Wall area, Aw = $2\\pi R H_{dewar}$, where R = 7\", $H_{dewar}$ = 24\"\n",
    "\n",
    "Wall area, Aw = 6810.15 cm^2\n",
    "\n",
    "Wall heat transfer length, Lw = 1\" = 2.54 cm"
   ]
  },
  {
   "cell_type": "code",
   "execution_count": 19,
   "metadata": {},
   "outputs": [
    {
     "data": {
      "text/plain": [
       "6810.14851907037"
      ]
     },
     "execution_count": 19,
     "metadata": {},
     "output_type": "execute_result"
    }
   ],
   "source": [
    "# cm\n",
    "Rdewar = 7*2.54\n",
    "# cm\n",
    "Hdewar = 24*2.54\n",
    "# cm^2\n",
    "Aw = 2*np.pi*Rdewar*Hdewar\n",
    "Aw"
   ]
  },
  {
   "cell_type": "markdown",
   "metadata": {},
   "source": [
    "Vacuum jacket fails and is full of air:\n",
    "\n",
    "air conductivity at 293K, kair = 25.56mW/mK\n",
    "\n",
    "Ar temperature at 16.7 psia, TAr = 88.531K"
   ]
  },
  {
   "cell_type": "code",
   "execution_count": 20,
   "metadata": {},
   "outputs": [
    {
     "data": {
      "text/plain": [
       "148.84635812599973"
      ]
     },
     "execution_count": 20,
     "metadata": {},
     "output_type": "execute_result"
    }
   ],
   "source": [
    "# cm\n",
    "Lw = 2.54\n",
    "# miniW/mK\n",
    "kair = 25.56\n",
    "# K\n",
    "TAr = 88.531\n",
    "# W/mK\n",
    "P_air = kair*(TH-TAr)*(Ab/Lb+Aw/Lw)*0.01*0.001\n",
    "P_air"
   ]
  },
  {
   "cell_type": "markdown",
   "metadata": {},
   "source": [
    "The failed vacuum jacket filled with air will introduce 149W of heat"
   ]
  },
  {
   "cell_type": "code",
   "execution_count": 21,
   "metadata": {},
   "outputs": [
    {
     "data": {
      "text/plain": [
       "32.94362567500117"
      ]
     },
     "execution_count": 21,
     "metadata": {},
     "output_type": "execute_result"
    }
   ],
   "source": [
    "P_air/HB*DenSTP*1000*60"
   ]
  },
  {
   "cell_type": "markdown",
   "metadata": {},
   "source": [
    "All this 149W of heat will boil the LAr corresponding to 33 slpm = 1.17 scfm"
   ]
  },
  {
   "cell_type": "markdown",
   "metadata": {},
   "source": [
    "Vacuum jacket fails and is full of Ar:\n",
    "\n",
    "Ar conductivity at 293K, kAr = 0.0172 W/mK"
   ]
  },
  {
   "cell_type": "code",
   "execution_count": 44,
   "metadata": {},
   "outputs": [
    {
     "data": {
      "text/plain": [
       "100.16265100810624"
      ]
     },
     "execution_count": 44,
     "metadata": {},
     "output_type": "execute_result"
    }
   ],
   "source": [
    "# W/mk\n",
    "kAr = 0.0172\n",
    "# W/mk\n",
    "P_Ar = kAr*(TH-TAr)*(Ab/Lb+Aw/Lw)*0.01\n",
    "P_Ar"
   ]
  },
  {
   "cell_type": "markdown",
   "metadata": {},
   "source": [
    "The failed vacuum jacket filled with Ar will introduce 100W of heat"
   ]
  },
  {
   "cell_type": "code",
   "execution_count": 45,
   "metadata": {},
   "outputs": [
    {
     "data": {
      "text/plain": [
       "22.168636995697188"
      ]
     },
     "execution_count": 45,
     "metadata": {},
     "output_type": "execute_result"
    }
   ],
   "source": [
    "P_Ar/HB*DenSTP*1000*60"
   ]
  },
  {
   "cell_type": "markdown",
   "metadata": {},
   "source": [
    "All this 100W of heat will boil the LAr corresponding to 22 slpm = 0.78 scfm"
   ]
  },
  {
   "cell_type": "markdown",
   "metadata": {},
   "source": []
  }
 ],
 "metadata": {
  "kernelspec": {
   "display_name": "base",
   "language": "python",
   "name": "python3"
  },
  "language_info": {
   "codemirror_mode": {
    "name": "ipython",
    "version": 3
   },
   "file_extension": ".py",
   "mimetype": "text/x-python",
   "name": "python",
   "nbconvert_exporter": "python",
   "pygments_lexer": "ipython3",
   "version": "3.11.5"
  }
 },
 "nbformat": 4,
 "nbformat_minor": 2
}
