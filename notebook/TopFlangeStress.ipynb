{
 "cells": [
  {
   "cell_type": "code",
   "execution_count": 1,
   "id": "0e385d77",
   "metadata": {},
   "outputs": [],
   "source": [
    "import numpy as np"
   ]
  },
  {
   "cell_type": "markdown",
   "id": "30a3b7d1",
   "metadata": {},
   "source": [
    "## Top Plate Stress\n",
    "\n",
    "UG-34 (Calculation #1)\n",
    "\n",
    "Top plate material: SS304\n",
    "\n",
    "Calculate the minimum required thickness for the top plate, assuming a blind top plate. UG-34 (c)(2)(1)\n",
    "\n",
    "$t = d\\sqrt{CP/SE}$\n",
    "\n",
    "d: diameter of the flange, 18 in \\\n",
    "C: a factor depending upon the method of attachment of head, shell dimensions, and other items as listed in (d) below, dimensionless, 0.25 from sketch (p) of Fig. UG-34, 0.3 from the Cryofab analysis \\\n",
    "P: internal design pressure, 15 psig, from the Cryofab analysis \\\n",
    "S: maximum allowable stress value in tension from applicable table of stress values referenced by UG-23, 20 kpi = 20000 psi, from Table ULT-23, at temperature of 0, 100, 150 F \\\n",
    "E: joint efficiency, from Table UW-12, of any Category A weld as defined in UW-3(a): 1 for butt joints in Table UW-12 \\\n",
    "t: minimum required thickness of flat head or cover\n",
    "\n",
    "SLArpaas top plate thickness: 0.5 in"
   ]
  },
  {
   "cell_type": "code",
   "execution_count": 2,
   "id": "aabc0ed1",
   "metadata": {},
   "outputs": [
    {
     "name": "stdout",
     "output_type": "stream",
     "text": [
      "Minimum required thickness for the top plate: 0.27 in; SLArpaas top plate thickness: 0.5 in; thickness OK? True\n"
     ]
    }
   ],
   "source": [
    "d = 18\n",
    "C = 0.3\n",
    "P = 15\n",
    "S = 20000\n",
    "E = 1\n",
    "t = d*np.sqrt(C*P/(S*E))\n",
    "t_slarpaas = 0.5\n",
    "thicknessOK = False\n",
    "if t_slarpaas > t:\n",
    "    thicknessOK = True\n",
    "print( f'Minimum required thickness for the top plate: {t} in; SLArpaas top plate thickness: {t_slarpaas} in; thickness OK? {thicknessOK}')"
   ]
  },
  {
   "cell_type": "markdown",
   "id": "00b02eb5",
   "metadata": {},
   "source": [
    "### Equivalent hole area\n",
    "\n",
    "3-in holes x 3 \\\n",
    "1.7-in holes x 2 \\\n",
    "1.2-in holes x 2"
   ]
  },
  {
   "cell_type": "code",
   "execution_count": 3,
   "id": "4d6bd535",
   "metadata": {},
   "outputs": [
    {
     "name": "stdout",
     "output_type": "stream",
     "text": [
      "Area of the 3-in hole: 7.0685834705770345 sq in; area of the 1.7-in hole: 2.269800692218625 sq in; area of the 1.2-in hole: 1.1309733552923256 sq in; total area: 28.007298506753006 sq in\n"
     ]
    }
   ],
   "source": [
    "# area of a 3\" hole\n",
    "A3 = (1.5**2)*np.pi\n",
    "# area of a 1.7\" hole\n",
    "A1p7 = (0.85**2)*np.pi\n",
    "# area of a 1.2\" hole\n",
    "A1p2 = (0.6**2)*np.pi\n",
    "A = 3*A3 + 2*A1p7 + 2*A1p2\n",
    "print( f'Area of the 3-in hole: {A3} sq in; area of the 1.7-in hole: {A1p7} sq in; area of the 1.2-in hole: {A1p2} sq in; total area: {A} sq in')"
   ]
  },
  {
   "cell_type": "code",
   "execution_count": 4,
   "id": "56e326d5",
   "metadata": {},
   "outputs": [
    {
     "name": "stdout",
     "output_type": "stream",
     "text": [
      "Equivalent to a single hole with the diamter 2.9857997253667232 in\n"
     ]
    }
   ],
   "source": [
    "# Equivalent diameter\n",
    "d_eq = np.sqrt(A/np.pi)\n",
    "print( f'Equivalent to a single hole with the diamter {d_eq} in')"
   ]
  },
  {
   "cell_type": "markdown",
   "id": "c52ade32",
   "metadata": {},
   "source": [
    "## Openings\n",
    "\n",
    "### Welded connections:\n",
    "\n",
    "UG-36 (c)(3)(-a): \n",
    "> 3 1/2 in. (89 mm) diameter — in vessel shells or heads with a required minimum thickness of 3/8 in. (10 mm) or less;\n",
    "\n",
    "The `required minimum thickness` here means the `t` calculated for the top flange stress analysis (calculation #1, based on UG-34).  So (-a) and (-b) together make sense.  Our `t` = 0.225 and therefore we can use (-a).  Our largest openings have the diameter of 3 in, smaller than 3.5 in. \n",
    "\n",
    "&rarr; No reinforcement is required for welded connections."
   ]
  },
  {
   "cell_type": "markdown",
   "id": "4af56091",
   "metadata": {},
   "source": [
    "### Distance between openings\n",
    "\n",
    "UG-36 (c)(3)(-c): \n",
    "> no two isolated unreinforced openings, in accordance with (-a) or (-b) above, shall have their centers closer to each other than the sum of their diameters;\n",
    "\n",
    "Between the three 3-in openings: 8.113 in, 8.113 in, 9 in; all larger than 6 in &rarr; OK\n",
    "\n",
    "Between the two 1.7-in openings: 7.601 in &rarr; OK\n",
    "\n",
    "Between the two 1.2-in openings: 2.253 in &rarr; Not OK, requires reinforcement (1); 2.253 in > 1.2 in$\\times$1.25 = 1.5 in &rarr; UG-39 (b)(2)\n",
    "\n",
    "Between the 3-in and 1.2-in openings: 3.536 in, 4.977 in &rarr; Not OK, requires reinforcement (2); 3.536 in > (3 in+1.2 in)/2$\\times$1.25 = 2.625 in &rarr; UG-39 (b)(2)\n",
    "\n",
    "Between the 3-in and 1.7-in openings (the same distance): 4.562 in &rarr; Not OK, requires reinforcement (3); 4.562 in > (3 in+1.7 in)/2$\\times$1.25 = 2.9375 in &rarr; UG-39 (b)(2)\n",
    "\n",
    "Between the 3-in and another 1.7-in openings: 4.707 in, 5.78 in &rarr; OK"
   ]
  },
  {
   "cell_type": "markdown",
   "id": "6d50b69b",
   "metadata": {},
   "source": [
    "### Reinforcement required for openings in flat heads and covers\n",
    "\n",
    "UG-39 (b)(1)\n",
    "\n",
    "$f_{r1}$ = 1: $f_{r1}$ is defined in UG-37, and our case corresponds to Figure UG-40, sketch (o)\n",
    "\n",
    "&rarr; $A = 0.5dt$\n",
    "\n",
    "$t$ = minimum required thickness of flat head or cover (UG-34)\n",
    "\n",
    "$d$ = finished diameter of circular opening or finished dimension (chord length at mid-surface of thickness excluding excess thickness available for reinforcement) of nonradial opening in the plane under consideration, in. (mm) (UG-37)"
   ]
  },
  {
   "cell_type": "markdown",
   "id": "d1709e38",
   "metadata": {},
   "source": [
    "UG-39 (b)(2)\n",
    "\n",
    "> Multiple openings none of which have diameters exceeding one‐half the head diameter and no pair having an average diameter greater than one‐quarter the head diameter may be reinforced individually as required by (1) above when the spacing between any pair of adjacent openings is equal to or greater than twice the average diameter of the pair.\n",
    ">\n",
    "> When spacing between adjacent openings is less than twice but equal to or more than 1 1/4 the average diameter of the pair, the required reinforcement for each opening in the pair, as determined by (1) above, shall be summed together and then distributed such that 50% of the sum is located between the two openings. Spacings of less than 1 1/4 the average diameter of adjacent openings shall be treated by rules of U-2(g)."
   ]
  },
  {
   "cell_type": "code",
   "execution_count": 5,
   "id": "47d3f2a2",
   "metadata": {},
   "outputs": [],
   "source": [
    "# Reinforcement calculations\n",
    "def UG39_b_2(s, d1, d2, t, t_slarpaas):\n",
    "    d_avg = (d1+d2)/2\n",
    "    A = 0.5* d_avg *t\n",
    "    R = (s - d_avg)*(t_slarpaas -t)\n",
    "    isReinforced = False\n",
    "    if R > 0.5*A:\n",
    "        isReinforced = True\n",
    "\n",
    "    print(f'A = {A} sq in, R = {R} sq in, reinforcement OK? {isReinforced}')\n",
    "    return A, R, isReinforced"
   ]
  },
  {
   "cell_type": "markdown",
   "id": "f6e671af",
   "metadata": {},
   "source": [
    "#### Reinforcement (1)"
   ]
  },
  {
   "cell_type": "code",
   "execution_count": 6,
   "id": "1120057e",
   "metadata": {},
   "outputs": [
    {
     "name": "stdout",
     "output_type": "stream",
     "text": [
      "A = 0.162 sq in, R = 0.24219000000000002 sq in, reinforcement OK? True\n"
     ]
    }
   ],
   "source": [
    "A, R, isReinforced = UG39_b_2(2.253, 1.2, 1.2, t, 0.5)"
   ]
  },
  {
   "cell_type": "markdown",
   "id": "4ea5bb4a",
   "metadata": {},
   "source": [
    "#### Reinforcement (2)"
   ]
  },
  {
   "cell_type": "code",
   "execution_count": 7,
   "id": "4b720803",
   "metadata": {},
   "outputs": [
    {
     "name": "stdout",
     "output_type": "stream",
     "text": [
      "A = 0.28350000000000003 sq in, R = 0.33027999999999996 sq in, reinforcement OK? True\n"
     ]
    }
   ],
   "source": [
    "A, R, isReinforced = UG39_b_2(3.536, 3, 1.2, t, 0.5)"
   ]
  },
  {
   "cell_type": "markdown",
   "id": "9603392f",
   "metadata": {},
   "source": [
    "#### Reinforcement (3)"
   ]
  },
  {
   "cell_type": "code",
   "execution_count": 8,
   "id": "e81fbd4f",
   "metadata": {},
   "outputs": [
    {
     "name": "stdout",
     "output_type": "stream",
     "text": [
      "A = 0.31725000000000003 sq in, R = 0.50876 sq in, reinforcement OK? True\n"
     ]
    }
   ],
   "source": [
    "A, R, isReinforced = UG39_b_2(4.562, 3, 1.7, t, 0.5)"
   ]
  },
  {
   "cell_type": "code",
   "execution_count": null,
   "id": "bd3e9325",
   "metadata": {},
   "outputs": [],
   "source": []
  }
 ],
 "metadata": {
  "kernelspec": {
   "display_name": "Python 3 (ipykernel)",
   "language": "python",
   "name": "python3"
  },
  "language_info": {
   "codemirror_mode": {
    "name": "ipython",
    "version": 3
   },
   "file_extension": ".py",
   "mimetype": "text/x-python",
   "name": "python",
   "nbconvert_exporter": "python",
   "pygments_lexer": "ipython3",
   "version": "3.9.18"
  }
 },
 "nbformat": 4,
 "nbformat_minor": 5
}
