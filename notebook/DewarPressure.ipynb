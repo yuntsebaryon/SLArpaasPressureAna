{
 "cells": [
  {
   "cell_type": "code",
   "execution_count": 1,
   "id": "d1335a18",
   "metadata": {},
   "outputs": [],
   "source": [
    "import numpy as np"
   ]
  },
  {
   "cell_type": "markdown",
   "id": "51591651",
   "metadata": {},
   "source": [
    "### Shells under Internal Pressure\n",
    "\n",
    "UG-27(c)(2):\n",
    "\n",
    "> Longitudinal Stress (Circumferential Joints).20 When the thickness does not exceed one‐half of the inside radius, or P does not exceed 1.25S E , the following formulas shall apply:\n",
    ">\n",
    "> $P = \\frac{2SEt}{R-0.4t}$\n",
    "\n",
    "E = joint efficiency for, or the efficiency of, appropriate joint in cylindrical or spherical shells, or the efficiency of ligaments between openings, whichever is less.\n",
    "\n",
    "For welded vessels, use the efficiency specified in UW-12.\n",
    "\n",
    "For ligaments between openings, use the efficiency calculated by the rules given in UG-53.\n",
    "\n",
    "E = 0.7 from the Cryofab analysis\n",
    "\n",
    "P = internal design pressure (see UG-21)\n",
    "\n",
    "R = inside radius of the shell course under consideration,19\n",
    "\n",
    "R = 7 in\n",
    "\n",
    "S = maximum allowable stress value (see UG-23 and the stress limitations specified in UG-24)\n",
    "\n",
    "S = 20000 psi from the Cryofab analysis and UG-23, 20 kpi = 20000 psi, from Table ULT-23, at temperature of 0, 100, 150 F\n",
    "\n",
    "t = minimum required thickness of shell\n",
    "\n",
    "t = 0.024 in"
   ]
  },
  {
   "cell_type": "code",
   "execution_count": 2,
   "id": "7bc66cd7",
   "metadata": {},
   "outputs": [
    {
     "name": "stdout",
     "output_type": "stream",
     "text": [
      "Longitudinal stress: 96.13183794918746 psi\n"
     ]
    }
   ],
   "source": [
    "S = 20000\n",
    "E = 0.7\n",
    "t = 0.024\n",
    "R = 7\n",
    "P = 2*S*E*t/(R-0.4*t)\n",
    "print(f'Longitudinal stress: {P} psi')"
   ]
  },
  {
   "cell_type": "markdown",
   "id": "f12564ef",
   "metadata": {},
   "source": [
    "### Torispherical Bottom under Internal Pressure\n",
    "\n",
    "UG-32(d)(2)\n",
    "\n",
    "> Torispherical Heads With t s /L ≥ 0.002. The required thickness of a torispherical head for the case in which the knuckle radius is 6% of the inside crown radius and the inside crown radius equals the outside diameter of the skirt [see (i)] shall be determined by\n",
    ">\n",
    "> $P = \\frac{SEt}{0.885L+0.1t}$\n",
    ">\n",
    "> Torispherical heads made of materials having a specified minimum tensile strength exceeding 70,000 psi (485 MPa) shall be designed using a value of S equal to 20,000 psi (138 MPa) at room temperature and reduced in proportion to the reduction in maximum allowable stress values at temperature for the material (see UG-23).\n",
    "\n",
    "According to Table ULT-23, at the room temperature S, maximum allowable stress value in tension, is 20000 psi, while S = 23400 psi at -300 F (88.71K, the LAr temperature).\n",
    "Therefore the reduction rate is 20000/23400 = 0.85.\n",
    "\n",
    "L = inside spherical or crown radius, but Cryofab uses the inner diameter, 14 in.  I think this number can be used as a conservative estimate.\n",
    "\n",
    "t = minimum required thickness of head after forming, I use tb (t of the bottom) below"
   ]
  },
  {
   "cell_type": "code",
   "execution_count": 8,
   "id": "b944b7c7",
   "metadata": {},
   "outputs": [
    {
     "name": "stdout",
     "output_type": "stream",
     "text": [
      "Torispherical bottom stress: 46.083841610998164 psi\n"
     ]
    }
   ],
   "source": [
    "L = 14\n",
    "tb = 0.048\n",
    "Pb = 0.85*S*E*tb/(0.885*L+0.1*tb)\n",
    "print( f'Torispherical bottom stress: {Pb} psi')"
   ]
  },
  {
   "cell_type": "code",
   "execution_count": null,
   "id": "20867f23",
   "metadata": {},
   "outputs": [],
   "source": []
  }
 ],
 "metadata": {
  "kernelspec": {
   "display_name": "Python 3 (ipykernel)",
   "language": "python",
   "name": "python3"
  },
  "language_info": {
   "codemirror_mode": {
    "name": "ipython",
    "version": 3
   },
   "file_extension": ".py",
   "mimetype": "text/x-python",
   "name": "python",
   "nbconvert_exporter": "python",
   "pygments_lexer": "ipython3",
   "version": "3.9.18"
  }
 },
 "nbformat": 4,
 "nbformat_minor": 5
}
