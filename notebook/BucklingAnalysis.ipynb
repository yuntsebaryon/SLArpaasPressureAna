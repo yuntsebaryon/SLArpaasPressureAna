{
 "cells": [
  {
   "cell_type": "markdown",
   "id": "779085a6",
   "metadata": {},
   "source": [
    "# Buckling Analysis\n",
    "\n",
    "The Cryofab analysis is well documented in the engineering note."
   ]
  },
  {
   "cell_type": "markdown",
   "id": "d9c68e73",
   "metadata": {},
   "source": [
    "## ASME code calculation\n",
    "\n",
    "I use was UG-28, (c)(1) Step 7, with A = 0.000065 (obtained from (c)(1)),\n",
    "and the result of the maximum allowable external working pressure, $P_a$ = 2.08 psi"
   ]
  },
  {
   "cell_type": "code",
   "execution_count": null,
   "id": "45fc027e",
   "metadata": {},
   "outputs": [],
   "source": []
  }
 ],
 "metadata": {
  "kernelspec": {
   "display_name": "Python 3 (ipykernel)",
   "language": "python",
   "name": "python3"
  },
  "language_info": {
   "codemirror_mode": {
    "name": "ipython",
    "version": 3
   },
   "file_extension": ".py",
   "mimetype": "text/x-python",
   "name": "python",
   "nbconvert_exporter": "python",
   "pygments_lexer": "ipython3",
   "version": "3.11.5"
  }
 },
 "nbformat": 4,
 "nbformat_minor": 5
}
