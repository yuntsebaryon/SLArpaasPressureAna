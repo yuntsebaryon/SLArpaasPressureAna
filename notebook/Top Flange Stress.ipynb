{
 "cells": [
  {
   "cell_type": "code",
   "execution_count": 1,
   "id": "8cebd410",
   "metadata": {},
   "outputs": [],
   "source": [
    "import numpy as np"
   ]
  },
  {
   "cell_type": "markdown",
   "id": "147db2d8",
   "metadata": {},
   "source": [
    "### Top Flange Stress: UG-34\n",
    "\n",
    "d: diameter of the flange \\\n",
    "C: 0.25 from sketch (p) of Fig. UG-34 \\\n"
   ]
  },
  {
   "cell_type": "code",
   "execution_count": 6,
   "id": "5f339a79",
   "metadata": {},
   "outputs": [
    {
     "name": "stdout",
     "output_type": "stream",
     "text": [
      "t = 0.225\n"
     ]
    }
   ],
   "source": [
    "d = 18\n",
    "C = 0.25\n",
    "P = 12.5\n",
    "S = 20000\n",
    "E = 1\n",
    "t = d*np.sqrt(C*P/(S*E))\n",
    "print( f't = {t}')"
   ]
  },
  {
   "cell_type": "code",
   "execution_count": null,
   "id": "6090d92f",
   "metadata": {},
   "outputs": [],
   "source": []
  }
 ],
 "metadata": {
  "kernelspec": {
   "display_name": "Python 3 (ipykernel)",
   "language": "python",
   "name": "python3"
  },
  "language_info": {
   "codemirror_mode": {
    "name": "ipython",
    "version": 3
   },
   "file_extension": ".py",
   "mimetype": "text/x-python",
   "name": "python",
   "nbconvert_exporter": "python",
   "pygments_lexer": "ipython3",
   "version": "3.9.18"
  }
 },
 "nbformat": 4,
 "nbformat_minor": 5
}
